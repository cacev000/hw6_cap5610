{
 "cells": [
  {
   "cell_type": "code",
   "execution_count": 110,
   "metadata": {},
   "outputs": [],
   "source": [
    "import pandas as pd\n",
    "import numpy as np\n",
    "import matplotlib.pyplot as plt\n",
    "\n",
    "from surprise import Dataset, Reader\n",
    "from surprise import KNNBasic, KNNWithMeans, SVD\n",
    "from surprise.model_selection import cross_validate\n",
    "\n",
    "from surprise.model_selection import train_test_split\n",
    "from surprise import accuracy\n",
    "from surprise.model_selection import GridSearchCV"
   ]
  },
  {
   "cell_type": "code",
   "execution_count": 95,
   "metadata": {},
   "outputs": [
    {
     "name": "stdout",
     "output_type": "stream",
     "text": [
      "        userId  movieId  rating   timestamp\n",
      "0            1       31     2.5  1260759144\n",
      "1            1     1029     3.0  1260759179\n",
      "2            1     1061     3.0  1260759182\n",
      "3            1     1129     2.0  1260759185\n",
      "4            1     1172     4.0  1260759205\n",
      "...        ...      ...     ...         ...\n",
      "99999      671     6268     2.5  1065579370\n",
      "100000     671     6269     4.0  1065149201\n",
      "100001     671     6365     4.0  1070940363\n",
      "100002     671     6385     2.5  1070979663\n",
      "100003     671     6565     3.5  1074784724\n",
      "\n",
      "[100004 rows x 4 columns]\n"
     ]
    }
   ],
   "source": [
    "#read data\n",
    "ratingDf = pd.read_csv(\"./ratings_small.csv\")\n",
    "print(ratingDf)"
   ]
  },
  {
   "cell_type": "code",
   "execution_count": 96,
   "metadata": {},
   "outputs": [],
   "source": [
    "# Getting rating and loading the dataset with it\n",
    "rating = Reader(rating_scale=(1,5))\n",
    "dataWithRating = Dataset.load_from_df(ratingDf[['userId', 'movieId', 'rating']], rating)"
   ]
  },
  {
   "cell_type": "markdown",
   "metadata": {},
   "source": [
    "### Q3 - C"
   ]
  },
  {
   "cell_type": "code",
   "execution_count": 97,
   "metadata": {},
   "outputs": [
    {
     "name": "stdout",
     "output_type": "stream",
     "text": [
      "Evaluating RMSE, MAE of algorithm SVD on 5 split(s).\n",
      "\n",
      "                  Fold 1  Fold 2  Fold 3  Fold 4  Fold 5  Mean    Std     \n",
      "RMSE (testset)    1.0054  1.0028  1.0047  1.0122  1.0076  1.0066  0.0032  \n",
      "MAE (testset)     0.7735  0.7753  0.7772  0.7797  0.7779  0.7767  0.0021  \n",
      "Fit time          3.38    3.39    3.42    3.38    3.38    3.39    0.02    \n",
      "Test time         0.09    0.09    0.09    0.09    0.09    0.09    0.00    \n"
     ]
    }
   ],
   "source": [
    "# Obtain the PFM results\n",
    "algorithPfm = SVD(biased=False)\n",
    "\n",
    "resultPfm = cross_validate(algorithPfm, dataWithRating, measures=['RMSE', 'MAE'], cv=5, verbose=True)"
   ]
  },
  {
   "cell_type": "code",
   "execution_count": 98,
   "metadata": {},
   "outputs": [
    {
     "name": "stdout",
     "output_type": "stream",
     "text": [
      "Evaluating RMSE, MAE of algorithm KNNWithMeans on 5 split(s).\n",
      "\n",
      "                  Fold 1  Fold 2  Fold 3  Fold 4  Fold 5  Mean    Std     \n",
      "RMSE (testset)    0.9233  0.9208  0.9178  0.9309  0.9138  0.9213  0.0057  \n",
      "MAE (testset)     0.7075  0.7040  0.7013  0.7125  0.6976  0.7046  0.0051  \n",
      "Fit time          0.17    0.18    0.18    0.18    0.18    0.18    0.01    \n",
      "Test time         1.42    4.33    1.42    1.43    1.40    2.00    1.17    \n"
     ]
    }
   ],
   "source": [
    "# Obtain the User Based results\n",
    "userBasedOptionsMsd = {'name': 'MSD', 'user_based': True}\n",
    "\n",
    "userBasedPreResult = KNNWithMeans(sim_options=userBasedOptionsMsd, verbose=False)\n",
    "\n",
    "resultUserBased = cross_validate(userBasedPreResult, dataWithRating, measures=['RMSE', 'MAE'], cv=5, verbose=True)"
   ]
  },
  {
   "cell_type": "code",
   "execution_count": 99,
   "metadata": {},
   "outputs": [
    {
     "name": "stdout",
     "output_type": "stream",
     "text": [
      "Evaluating RMSE, MAE of algorithm KNNWithMeans on 5 split(s).\n",
      "\n",
      "                  Fold 1  Fold 2  Fold 3  Fold 4  Fold 5  Mean    Std     \n",
      "RMSE (testset)    0.9148  0.9169  0.9172  0.9064  0.9126  0.9136  0.0040  \n",
      "MAE (testset)     0.6977  0.7022  0.7034  0.6949  0.7002  0.6997  0.0031  \n",
      "Fit time          3.30    3.37    3.38    3.38    3.29    3.34    0.04    \n",
      "Test time         5.88    8.77    5.88    6.00    5.79    6.46    1.15    \n"
     ]
    }
   ],
   "source": [
    "# Obtain the Item Based results\n",
    "itemBasedOptionsMsd = {'name': 'MSD', 'user_based': False}\n",
    "\n",
    "itemBasedPreResult = KNNWithMeans(sim_options=itemBasedOptionsMsd, verbose=False)\n",
    "\n",
    "resultItemBased = cross_validate(itemBasedPreResult, dataWithRating, measures=['RMSE', 'MAE'], cv=5, verbose=True)"
   ]
  },
  {
   "cell_type": "markdown",
   "metadata": {},
   "source": [
    "### Q3 - D"
   ]
  },
  {
   "cell_type": "code",
   "execution_count": 100,
   "metadata": {},
   "outputs": [
    {
     "data": {
      "image/png": "[encoded data removed]",
      "text/plain": [
       "<Figure size 432x288 with 1 Axes>"
      ]
     },
     "metadata": {
      "needs_background": "light"
     },
     "output_type": "display_data"
    }
   ],
   "source": [
    "from statistics import mean\n",
    "\n",
    "def getPerformanceMean(result):\n",
    "    return (mean(result)-0.9)*10000\n",
    "\n",
    "meanRmsePerformanceResult = [getPerformanceMean(resultItemBased['test_rmse']), getPerformanceMean(resultUserBased['test_rmse']), getPerformanceMean(resultPfm['test_rmse'])]\n",
    "\n",
    "usedAlgorithms = ['CF Item', 'CF User', 'PMF']\n",
    "\n",
    "figure = plt.figure()\n",
    "axes = figure.add_axes([0,0,1,1])\n",
    "axes.bar(usedAlgorithms, meanRmsePerformanceResult)\n",
    "plt.show()"
   ]
  },
  {
   "cell_type": "code",
   "execution_count": 101,
   "metadata": {},
   "outputs": [
    {
     "name": "stdout",
     "output_type": "stream",
     "text": [
      "[-0.00032587477086409855, 0.0045797623289943745, 0.07669880400992202]\n"
     ]
    },
    {
     "data": {
      "image/png": "[encoded data removed]",
      "text/plain": [
       "<Figure size 432x288 with 1 Axes>"
      ]
     },
     "metadata": {
      "needs_background": "light"
     },
     "output_type": "display_data"
    }
   ],
   "source": [
    "def getPerformance(res):\n",
    "    return (mean(res)-0.7)\n",
    "\n",
    "meanMaePerformanceResult = [getPerformance(resultItemBased['test_mae']), getPerformance(resultUserBased['test_mae']), getPerformance(resultPfm['test_mae'])]\n",
    "\n",
    "print(meanMaePerformanceResult)\n",
    "\n",
    "usedAlgorithms = ['CF item', 'CF User', 'PMF']\n",
    "\n",
    "figure = plt.figure()\n",
    "axes = figure.add_axes([0,0,1,1])\n",
    "axes.bar(usedAlgorithms, meanMaePerformanceResult)\n",
    "plt.show()"
   ]
  },
  {
   "cell_type": "markdown",
   "metadata": {},
   "source": [
    "### Q3 - E"
   ]
  },
  {
   "cell_type": "code",
   "execution_count": 102,
   "metadata": {},
   "outputs": [
    {
     "name": "stdout",
     "output_type": "stream",
     "text": [
      "Evaluating RMSE, MAE of algorithm KNNWithMeans on 5 split(s).\n",
      "\n",
      "                  Fold 1  Fold 2  Fold 3  Fold 4  Fold 5  Mean    Std     \n",
      "RMSE (testset)    0.9218  0.9135  0.9290  0.9236  0.9188  0.9213  0.0052  \n",
      "MAE (testset)     0.7047  0.7027  0.7129  0.7079  0.7027  0.7062  0.0039  \n",
      "Fit time          0.46    0.48    0.48    0.48    0.48    0.48    0.01    \n",
      "Test time         1.43    4.25    1.43    1.44    1.41    1.99    1.13    \n"
     ]
    }
   ],
   "source": [
    "# Obtain User Based Cosine Result\n",
    "userBasedOptions = {'name': 'cosine', 'user_based': True}\n",
    "\n",
    "userBased = KNNWithMeans(sim_options=userBasedOptions, verbose=False)\n",
    "\n",
    "cosineUserBasedResults = cross_validate(userBased, dataWithRating, measures=['RMSE', 'MAE'], cv=5, verbose=True)"
   ]
  },
  {
   "cell_type": "code",
   "execution_count": 103,
   "metadata": {},
   "outputs": [
    {
     "name": "stdout",
     "output_type": "stream",
     "text": [
      "Evaluating RMSE, MAE of algorithm KNNWithMeans on 5 split(s).\n",
      "\n",
      "                  Fold 1  Fold 2  Fold 3  Fold 4  Fold 5  Mean    Std     \n",
      "RMSE (testset)    0.9237  0.9210  0.9215  0.9208  0.9216  0.9217  0.0010  \n",
      "MAE (testset)     0.7068  0.7064  0.7057  0.7062  0.7072  0.7065  0.0005  \n",
      "Fit time          0.46    0.51    0.49    0.52    0.48    0.49    0.02    \n",
      "Test time         1.50    4.42    1.47    1.41    1.44    2.05    1.19    \n"
     ]
    }
   ],
   "source": [
    "# Obtain Item Based Cosine Result\n",
    "itemBasedOptions = {'name': 'cosine', 'user_based': False}\n",
    "\n",
    "itemBased = KNNWithMeans(sim_options=userBasedOptions, verbose=False)\n",
    "\n",
    "cosineItemBasedResults = cross_validate(itemBased, dataWithRating, measures=['RMSE', 'MAE'], cv=5, verbose=True)"
   ]
  },
  {
   "cell_type": "code",
   "execution_count": 104,
   "metadata": {},
   "outputs": [
    {
     "name": "stdout",
     "output_type": "stream",
     "text": [
      "Evaluating RMSE, MAE of algorithm KNNWithMeans on 5 split(s).\n",
      "\n",
      "                  Fold 1  Fold 2  Fold 3  Fold 4  Fold 5  Mean    Std     \n",
      "RMSE (testset)    0.9236  0.9256  0.9238  0.9205  0.9195  0.9226  0.0023  \n",
      "MAE (testset)     0.7009  0.7055  0.7021  0.6988  0.6991  0.7013  0.0024  \n",
      "Fit time          0.68    0.70    0.69    0.70    0.70    0.69    0.01    \n",
      "Test time         1.29    4.21    1.29    1.28    1.30    1.87    1.17    \n"
     ]
    }
   ],
   "source": [
    "# Obtain Pearson Result\n",
    "pearsonOptions = {'name': 'pearson_baseline', 'user_based': True}\n",
    "\n",
    "pearson = KNNWithMeans(sim_options=pearsonOptions, verbose=False)\n",
    "\n",
    "pearsonResults = cross_validate(pearson, dataWithRating, measures=['RMSE', 'MAE'], cv=5, verbose=True)"
   ]
  },
  {
   "cell_type": "code",
   "execution_count": 113,
   "metadata": {},
   "outputs": [
    {
     "name": "stdout",
     "output_type": "stream",
     "text": [
      "[213.42180366765385, 217.19847349323308, 226.0160585751525]\n"
     ]
    },
    {
     "data": {
      "image/png": "[encoded data removed]",
      "text/plain": [
       "<Figure size 432x288 with 1 Axes>"
      ]
     },
     "metadata": {
      "needs_background": "light"
     },
     "output_type": "display_data"
    }
   ],
   "source": [
    "#RMSE comparison\n",
    "performanceMean = [getPerformanceMean(cosineUserBasedResults['test_rmse']), getPerformanceMean(cosineItemBasedResults['test_rmse']), getPerformanceMean(pearsonResults['test_rmse'])]\n",
    "\n",
    "print(performanceMean)\n",
    "\n",
    "usedAlgorithms = ['MSD', 'Cosine', 'Pearson']\n",
    "\n",
    "figure = plt.figure()\n",
    "axes = figure.add_axes([0,0,1,1])\n",
    "axes.bar(usedAlgorithms, performanceMean)\n",
    "plt.show()"
   ]
  },
  {
   "cell_type": "code",
   "execution_count": 106,
   "metadata": {},
   "outputs": [
    {
     "name": "stdout",
     "output_type": "stream",
     "text": [
      "[0.006192458787064203, 0.006451845286075675, 0.0012690582691418095]\n"
     ]
    },
    {
     "data": {
      "image/png": "[encoded data removed]",
      "text/plain": [
       "<Figure size 432x288 with 1 Axes>"
      ]
     },
     "metadata": {
      "needs_background": "light"
     },
     "output_type": "display_data"
    }
   ],
   "source": [
    "#MAE\n",
    "performanceMean = [getPerformance(cosineUserBasedResults['test_mae']), getPerformance(cosineItemBasedResults['test_mae']), getPerformance(pearsonResults['test_mae'])]\n",
    "\n",
    "print(performanceMean)\n",
    "\n",
    "usedAlgorithms = ['MSD', 'Cosine', 'Pearson']\n",
    "\n",
    "figure = plt.figure()\n",
    "axes = figure.add_axes([0,0,1,1])\n",
    "axes.bar(usedAlgorithms, meanMaePerformanceResult)\n",
    "plt.show()"
   ]
  },
  {
   "cell_type": "markdown",
   "metadata": {},
   "source": [
    "### Q3 - F"
   ]
  },
  {
   "cell_type": "code",
   "execution_count": 107,
   "metadata": {},
   "outputs": [
    {
     "name": "stdout",
     "output_type": "stream",
     "text": [
      "K :  5\n",
      "RMSE: 0.9537\n",
      "K :  10\n",
      "RMSE: 0.9289\n",
      "K :  15\n",
      "RMSE: 0.9215\n",
      "K :  20\n",
      "RMSE: 0.9187\n",
      "K :  25\n",
      "RMSE: 0.9173\n",
      "K :  30\n",
      "RMSE: 0.9167\n",
      "K :  35\n",
      "RMSE: 0.9164\n",
      "K :  40\n",
      "RMSE: 0.9163\n",
      "K :  45\n",
      "RMSE: 0.9161\n",
      "K :  50\n",
      "RMSE: 0.9162\n",
      "K :  55\n",
      "RMSE: 0.9163\n",
      "K :  60\n",
      "RMSE: 0.9162\n",
      "K :  65\n",
      "RMSE: 0.9164\n",
      "K :  70\n",
      "RMSE: 0.9165\n",
      "K :  75\n",
      "RMSE: 0.9165\n",
      "K :  80\n",
      "RMSE: 0.9167\n",
      "K :  85\n",
      "RMSE: 0.9168\n",
      "K :  90\n",
      "RMSE: 0.9169\n",
      "K :  95\n",
      "RMSE: 0.9170\n",
      "K :  100\n",
      "RMSE: 0.9171\n",
      "K :  105\n",
      "RMSE: 0.9171\n",
      "K :  110\n",
      "RMSE: 0.9172\n",
      "K :  115\n",
      "RMSE: 0.9172\n",
      "K :  120\n",
      "RMSE: 0.9173\n",
      "K :  125\n",
      "RMSE: 0.9173\n",
      "K :  130\n",
      "RMSE: 0.9174\n",
      "K :  135\n",
      "RMSE: 0.9174\n",
      "K :  140\n",
      "RMSE: 0.9174\n",
      "K :  145\n",
      "RMSE: 0.9175\n",
      "K :  150\n",
      "RMSE: 0.9175\n"
     ]
    },
    {
     "data": {
      "image/png": "[encoded data removed]",
      "text/plain": [
       "<Figure size 432x288 with 1 Axes>"
      ]
     },
     "metadata": {
      "needs_background": "light"
     },
     "output_type": "display_data"
    }
   ],
   "source": [
    "train, test = train_test_split(dataWithRating, test_size=.25)\n",
    "\n",
    "resultsBykUser = []\n",
    "k = [x*5 for x in range(1, 31)]\n",
    "\n",
    "for kInput in k:\n",
    "    print(\"K : \", kInput)\n",
    "    algorithmResult = KNNWithMeans(k=kInput, sim_options=userBasedOptionsMsd, verbose=False)\n",
    "    \n",
    "    algorithmResult.fit(train)\n",
    "    predictions = algorithmResult.test(test)\n",
    "    \n",
    "    resultsBykUser.append((accuracy.rmse(predictions)-0.9)*10000)\n",
    "\n",
    "fig = plt.figure()\n",
    "ax = fig.add_axes([0,0,1,1])\n",
    "ax.plot(k,resultsBykUser)\n",
    "plt.show()"
   ]
  },
  {
   "cell_type": "code",
   "execution_count": 109,
   "metadata": {},
   "outputs": [
    {
     "name": "stdout",
     "output_type": "stream",
     "text": [
      "K :  5\n",
      "RMSE: 0.9785\n",
      "K :  10\n",
      "RMSE: 0.9456\n",
      "K :  15\n",
      "RMSE: 0.9341\n",
      "K :  20\n",
      "RMSE: 0.9263\n",
      "K :  25\n",
      "RMSE: 0.9225\n",
      "K :  30\n",
      "RMSE: 0.9197\n",
      "K :  35\n",
      "RMSE: 0.9179\n",
      "K :  40\n",
      "RMSE: 0.9167\n",
      "K :  45\n",
      "RMSE: 0.9156\n",
      "K :  50\n",
      "RMSE: 0.9147\n",
      "K :  55\n",
      "RMSE: 0.9143\n",
      "K :  60\n",
      "RMSE: 0.9138\n",
      "K :  65\n",
      "RMSE: 0.9136\n",
      "K :  70\n",
      "RMSE: 0.9134\n",
      "K :  75\n",
      "RMSE: 0.9131\n",
      "K :  80\n",
      "RMSE: 0.9129\n",
      "K :  85\n",
      "RMSE: 0.9129\n",
      "K :  90\n",
      "RMSE: 0.9128\n",
      "K :  95\n",
      "RMSE: 0.9126\n",
      "K :  100\n",
      "RMSE: 0.9126\n",
      "K :  105\n",
      "RMSE: 0.9125\n",
      "K :  110\n",
      "RMSE: 0.9125\n",
      "K :  115\n",
      "RMSE: 0.9124\n",
      "K :  120\n",
      "RMSE: 0.9123\n",
      "K :  125\n",
      "RMSE: 0.9122\n",
      "K :  130\n",
      "RMSE: 0.9121\n",
      "K :  135\n",
      "RMSE: 0.9121\n",
      "K :  140\n",
      "RMSE: 0.9121\n",
      "K :  145\n",
      "RMSE: 0.9121\n",
      "K :  150\n",
      "RMSE: 0.9121\n"
     ]
    },
    {
     "data": {
      "image/png": "[encoded data removed]",
      "text/plain": [
       "<Figure size 432x288 with 1 Axes>"
      ]
     },
     "metadata": {
      "needs_background": "light"
     },
     "output_type": "display_data"
    }
   ],
   "source": [
    "trainset, testset = train_test_split(dataWithRating, test_size=.25)\n",
    "\n",
    "kItemResults = []\n",
    "k = [x*5 for x in range(1, 31)]\n",
    "\n",
    "for kInput in k:\n",
    "    print(\"K : \", kInput)\n",
    "    \n",
    "    algorithmResult = KNNWithMeans(k=kInput, sim_options=itemBasedOptionsMsd, verbose=False)\n",
    "    algorithmResult.fit(trainset)\n",
    "    predictions = algorithmResult.test(testset)\n",
    "    \n",
    "    kItemResults.append((accuracy.rmse(predictions)-0.9)*10000)\n",
    "\n",
    "fig = plt.figure()\n",
    "ax = fig.add_axes([0,0,1,1])\n",
    "ax.plot(k, kItemResults)\n",
    "plt.show()"
   ]
  },
  {
   "cell_type": "markdown",
   "metadata": {},
   "source": [
    "### Q3 - G"
   ]
  },
  {
   "cell_type": "code",
   "execution_count": 111,
   "metadata": {},
   "outputs": [
    {
     "name": "stdout",
     "output_type": "stream",
     "text": [
      "0.9267405460539431\n",
      "{'k': 50, 'sim_options': {'user_based': True}, 'verbose': False}\n"
     ]
    }
   ],
   "source": [
    "# obtain best performance User Based\n",
    "\n",
    "k = [x*5 for x in range(1, 31)]\n",
    "\n",
    "userGridParameters = {'k': k,\n",
    "              'sim_options': {'user_based': [True]},\n",
    "              'verbose' : [False]\n",
    "              }\n",
    "\n",
    "userGS = GridSearchCV(KNNWithMeans, userGridParameters, measures=['rmse'], cv=3)\n",
    "\n",
    "userGS.fit(dataWithRating)\n",
    "\n",
    "print(userGS.best_score['rmse'])\n",
    "print(userGS.best_params['rmse'])"
   ]
  },
  {
   "cell_type": "code",
   "execution_count": 112,
   "metadata": {},
   "outputs": [
    {
     "name": "stdout",
     "output_type": "stream",
     "text": [
      "0.9188590401150057\n",
      "{'k': 140, 'sim_options': {'user_based': False}, 'verbose': False}\n"
     ]
    }
   ],
   "source": [
    "# obtain best performance Item Based\n",
    "k = [x*5 for x in range(1, 31)]\n",
    "itemGridParameters = {'k': k,\n",
    "              'sim_options': {'user_based': [False]},\n",
    "              'verbose' : [False]\n",
    "              }\n",
    "\n",
    "itemGS = GridSearchCV(KNNWithMeans, itemGridParameters, measures=['rmse', 'mae'], cv=3)\n",
    "\n",
    "itemGS.fit(dataWithRating)\n",
    "\n",
    "print(itemGS.best_score['rmse'])\n",
    "print(itemGS.best_params['rmse'])"
   ]
  },
  {
   "cell_type": "code",
   "execution_count": null,
   "metadata": {},
   "outputs": [],
   "source": []
  }
 ],
 "metadata": {
  "kernelspec": {
   "display_name": "Python 3",
   "language": "python",
   "name": "python3"
  },
  "language_info": {
   "codemirror_mode": {
    "name": "ipython",
    "version": 3
   },
   "file_extension": ".py",
   "mimetype": "text/x-python",
   "name": "python",
   "nbconvert_exporter": "python",
   "pygments_lexer": "ipython3",
   "version": "3.8.5"
  }
 },
 "nbformat": 4,
 "nbformat_minor": 4
}
